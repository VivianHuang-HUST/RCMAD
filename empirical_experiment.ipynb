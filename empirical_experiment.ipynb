{
 "cells": [
  {
   "cell_type": "code",
   "execution_count": 1,
   "id": "1694f9ce-9053-4f02-b6b4-bd41d0a0c83f",
   "metadata": {},
   "outputs": [
    {
     "name": "stdout",
     "output_type": "stream",
     "text": [
      "all time num is  456\n"
     ]
    }
   ],
   "source": [
    "import pandas as pd\n",
    "import numpy as np\n",
    "import cvxpy as cp\n",
    "from sklearn.mixture import GaussianMixture\n",
    "from scipy.stats import multivariate_normal\n",
    "\n",
    "\n",
    "file_path = 'data.xlsx'\n",
    "\n",
    "time_train = 30 # training size\n",
    "\n",
    "df = pd.read_excel(file_path)\n",
    "asset_num = 30 # asset number\n",
    "infor_num = 3 # contextual information number\n",
    "asset_num_index = asset_num+1\n",
    "asset_all = df.iloc[:, 1:asset_num_index].to_numpy()\n",
    "infor_all = df.iloc[:, -infor_num:].to_numpy()\n",
    "all_data = df.iloc[:, 1:].to_numpy()\n",
    "print(\"all time num is \", asset_all.shape[0])"
   ]
  },
  {
   "cell_type": "code",
   "execution_count": 2,
   "id": "4edb30ab-a66f-4986-8203-ce0f996d8524",
   "metadata": {},
   "outputs": [],
   "source": [
    "po_list = []\n",
    "mad_list = []\n",
    "rcmad_list = []"
   ]
  },
  {
   "cell_type": "code",
   "execution_count": 3,
   "id": "a71d843f-f478-4b50-a6e8-9ef1fe3bf4cc",
   "metadata": {},
   "outputs": [],
   "source": [
    " # MV model\n",
    "for time_window_idx in range(asset_all.shape[0]-time_train):\n",
    "    asset = df.iloc[time_window_idx:time_train+time_window_idx, 1:asset_num_index].to_numpy()\n",
    "    infor = df.iloc[time_window_idx:time_train+time_window_idx, -infor_num:].to_numpy()\n",
    "    all_data_train = df.iloc[time_window_idx:time_train+time_window_idx, 1:].to_numpy()\n",
    "    \n",
    "    asset_test = df.iloc[time_train+time_window_idx, 1:asset_num_index].to_numpy()\n",
    "    infor_test = df.iloc[time_train+time_window_idx, -infor_num:].to_numpy()\n",
    "    \n",
    "\n",
    "    asset_mean = np.mean(asset, axis=0)\n",
    "    asset_std = np.std(asset, axis=0)\n",
    "    asset_sig = np.diag(asset_std)\n",
    "    asset_sig = asset_sig.T.dot(asset_sig)\n",
    "    n_asset = asset.shape[1]\n",
    "    T_val = asset.shape[0]\n",
    "\n",
    "    # PO\n",
    "    w = cp.Variable(n_asset)\n",
    "    gamma = 3\n",
    "    ret = asset_mean.T @ w\n",
    "    risk = cp.quad_form(w, asset_sig)\n",
    "    prob = cp.Problem(cp.Maximize(ret - gamma * risk), [cp.sum(w) == 1, w >= 0])\n",
    "    prob.solve()\n",
    "    po_list.append(asset_test.T @ w.value)\n",
    "\n",
    "\n",
    "    "
   ]
  },
  {
   "cell_type": "code",
   "execution_count": 4,
   "id": "8adf6158-8692-48b7-92b8-aa887de31602",
   "metadata": {},
   "outputs": [
    {
     "name": "stderr",
     "output_type": "stream",
     "text": [
      "/home/xushaohang/new_disk_research_only/Finance/RC_MAD/venv/lib/python3.8/site-packages/cvxpy/problems/problem.py:1403: UserWarning: Solution may be inaccurate. Try another solver, adjusting the solver settings, or solve with verbose=True for more information.\n",
      "  warnings.warn(\n"
     ]
    }
   ],
   "source": [
    "# MAD model\n",
    "\n",
    "for time_window_idx in range(asset_all.shape[0]-time_train):    \n",
    "    asset = df.iloc[time_window_idx:time_train+time_window_idx, 1:asset_num_index].to_numpy()\n",
    "    infor = df.iloc[time_window_idx:time_train+time_window_idx, -infor_num:].to_numpy()\n",
    "    all_data_train = df.iloc[time_window_idx:time_train+time_window_idx, 1:].to_numpy()\n",
    "    \n",
    "    asset_test = df.iloc[time_train+time_window_idx, 1:asset_num_index].to_numpy()\n",
    "    infor_test = df.iloc[time_train+time_window_idx, -infor_num:].to_numpy()\n",
    "    \n",
    "\n",
    "    asset_mean = np.mean(asset, axis=0)\n",
    "    asset_std = np.std(asset, axis=0)\n",
    "    asset_sig = np.diag(asset_std)\n",
    "    asset_sig = asset_sig.T.dot(asset_sig)\n",
    "    n_asset = asset.shape[1]\n",
    "    T_val = asset.shape[0]\n",
    "\n",
    "\n",
    "    # MAD\n",
    "    y_t = cp.Variable(T_val)\n",
    "    R_0 = po_list[time_window_idx]   # desired return\n",
    "    r_i = asset_mean\n",
    "    r_it = asset\n",
    "    r_red_mat = np.zeros((T_val,n_asset))\n",
    "    for time_index in range(T_val):\n",
    "        rit_time = np.array([r_it[time_index,:] - r_i])\n",
    "        for ele in range(n_asset):\n",
    "            r_red_mat[time_index, ele] = rit_time[0, ele]\n",
    "    y_t = cp.Variable(T_val)\n",
    "    R_0 = ret.value  \n",
    "    r_i = asset_mean\n",
    "    r_it = asset\n",
    "    y_t = cp.Variable(T_val)\n",
    "    omega = cp.Variable(n_asset)\n",
    "    objective = cp.Minimize((1/T_val) * cp.sum(y_t))\n",
    "    constraints = [\n",
    "    r_i.T @ omega >= R_0,\n",
    "    cp.sum(omega) == 1.0,\n",
    "    ]\n",
    "    constraints +=[omega >= 0.0,\n",
    "    y_t >= 0.0,\n",
    "              ]\n",
    "    constraints += [\n",
    "        y_t+ r_red_mat @ omega >= 0,\n",
    "        y_t- r_red_mat @ omega >= 0,\n",
    "    ]\n",
    "    problem = cp.Problem(objective, constraints)\n",
    "    problem.solve(solver=cp.SCS)\n",
    "    if problem.status == cp.OPTIMAL:\n",
    "        mad_list.append(asset_test.T @ omega.value)\n",
    "    else:\n",
    "        mad_list.append(R_0)\n",
    "\n",
    "    "
   ]
  },
  {
   "cell_type": "code",
   "execution_count": 6,
   "id": "5268d09a-8f66-4d4b-a6d3-2aab87223280",
   "metadata": {},
   "outputs": [
    {
     "name": "stdout",
     "output_type": "stream",
     "text": [
      "105\n",
      "105\n",
      "105\n",
      "105\n"
     ]
    },
    {
     "name": "stderr",
     "output_type": "stream",
     "text": [
      "/tmp/ipykernel_63185/1660823676.py:39: RuntimeWarning: invalid value encountered in scalar divide\n",
      "  p_i_k[idx_component] = (gmm_weights[idx_component]*up_probability_density)/(low_probability_density)\n"
     ]
    },
    {
     "name": "stdout",
     "output_type": "stream",
     "text": [
      "105\n"
     ]
    },
    {
     "name": "stderr",
     "output_type": "stream",
     "text": [
      "/tmp/ipykernel_63185/1660823676.py:39: RuntimeWarning: invalid value encountered in scalar divide\n",
      "  p_i_k[idx_component] = (gmm_weights[idx_component]*up_probability_density)/(low_probability_density)\n"
     ]
    },
    {
     "name": "stdout",
     "output_type": "stream",
     "text": [
      "105\n",
      "105\n"
     ]
    },
    {
     "name": "stderr",
     "output_type": "stream",
     "text": [
      "/tmp/ipykernel_63185/1660823676.py:39: RuntimeWarning: invalid value encountered in scalar divide\n",
      "  p_i_k[idx_component] = (gmm_weights[idx_component]*up_probability_density)/(low_probability_density)\n"
     ]
    },
    {
     "name": "stdout",
     "output_type": "stream",
     "text": [
      "105\n",
      "105\n",
      "105\n",
      "105\n",
      "105\n",
      "105\n",
      "105\n"
     ]
    },
    {
     "name": "stderr",
     "output_type": "stream",
     "text": [
      "/tmp/ipykernel_63185/1660823676.py:39: RuntimeWarning: invalid value encountered in scalar divide\n",
      "  p_i_k[idx_component] = (gmm_weights[idx_component]*up_probability_density)/(low_probability_density)\n"
     ]
    },
    {
     "name": "stdout",
     "output_type": "stream",
     "text": [
      "105\n",
      "105\n",
      "105\n",
      "105\n",
      "105\n",
      "105\n"
     ]
    },
    {
     "name": "stderr",
     "output_type": "stream",
     "text": [
      "/tmp/ipykernel_63185/1660823676.py:39: RuntimeWarning: invalid value encountered in scalar divide\n",
      "  p_i_k[idx_component] = (gmm_weights[idx_component]*up_probability_density)/(low_probability_density)\n"
     ]
    },
    {
     "name": "stdout",
     "output_type": "stream",
     "text": [
      "105\n"
     ]
    },
    {
     "name": "stderr",
     "output_type": "stream",
     "text": [
      "/tmp/ipykernel_63185/1660823676.py:39: RuntimeWarning: invalid value encountered in scalar divide\n",
      "  p_i_k[idx_component] = (gmm_weights[idx_component]*up_probability_density)/(low_probability_density)\n"
     ]
    },
    {
     "name": "stdout",
     "output_type": "stream",
     "text": [
      "105\n"
     ]
    },
    {
     "name": "stderr",
     "output_type": "stream",
     "text": [
      "/tmp/ipykernel_63185/1660823676.py:39: RuntimeWarning: invalid value encountered in scalar divide\n",
      "  p_i_k[idx_component] = (gmm_weights[idx_component]*up_probability_density)/(low_probability_density)\n"
     ]
    },
    {
     "name": "stdout",
     "output_type": "stream",
     "text": [
      "105\n"
     ]
    },
    {
     "name": "stderr",
     "output_type": "stream",
     "text": [
      "/tmp/ipykernel_63185/1660823676.py:39: RuntimeWarning: invalid value encountered in scalar divide\n",
      "  p_i_k[idx_component] = (gmm_weights[idx_component]*up_probability_density)/(low_probability_density)\n"
     ]
    },
    {
     "name": "stdout",
     "output_type": "stream",
     "text": [
      "105\n",
      "105\n",
      "105\n"
     ]
    },
    {
     "name": "stderr",
     "output_type": "stream",
     "text": [
      "/tmp/ipykernel_63185/1660823676.py:39: RuntimeWarning: invalid value encountered in scalar divide\n",
      "  p_i_k[idx_component] = (gmm_weights[idx_component]*up_probability_density)/(low_probability_density)\n"
     ]
    },
    {
     "name": "stdout",
     "output_type": "stream",
     "text": [
      "105\n"
     ]
    },
    {
     "name": "stderr",
     "output_type": "stream",
     "text": [
      "/tmp/ipykernel_63185/1660823676.py:39: RuntimeWarning: invalid value encountered in scalar divide\n",
      "  p_i_k[idx_component] = (gmm_weights[idx_component]*up_probability_density)/(low_probability_density)\n"
     ]
    },
    {
     "name": "stdout",
     "output_type": "stream",
     "text": [
      "105\n"
     ]
    },
    {
     "name": "stderr",
     "output_type": "stream",
     "text": [
      "/tmp/ipykernel_63185/1660823676.py:39: RuntimeWarning: invalid value encountered in scalar divide\n",
      "  p_i_k[idx_component] = (gmm_weights[idx_component]*up_probability_density)/(low_probability_density)\n"
     ]
    },
    {
     "name": "stdout",
     "output_type": "stream",
     "text": [
      "105\n"
     ]
    },
    {
     "name": "stderr",
     "output_type": "stream",
     "text": [
      "/tmp/ipykernel_63185/1660823676.py:39: RuntimeWarning: invalid value encountered in scalar divide\n",
      "  p_i_k[idx_component] = (gmm_weights[idx_component]*up_probability_density)/(low_probability_density)\n"
     ]
    },
    {
     "name": "stdout",
     "output_type": "stream",
     "text": [
      "105\n",
      "105\n",
      "105\n",
      "105\n",
      "105\n",
      "105\n",
      "105\n",
      "105\n",
      "105\n",
      "105\n",
      "105\n",
      "105\n",
      "105\n",
      "105\n",
      "105\n",
      "105\n",
      "105\n",
      "105\n",
      "105\n",
      "105\n",
      "105\n",
      "105\n",
      "105\n",
      "105\n",
      "105\n",
      "105\n",
      "105\n",
      "105\n",
      "105\n",
      "105\n",
      "105\n",
      "105\n",
      "105\n",
      "105\n",
      "105\n",
      "105\n",
      "105\n",
      "105\n",
      "105\n",
      "105\n",
      "105\n",
      "105\n",
      "105\n",
      "105\n",
      "105\n"
     ]
    },
    {
     "name": "stderr",
     "output_type": "stream",
     "text": [
      "/tmp/ipykernel_63185/1660823676.py:39: RuntimeWarning: invalid value encountered in scalar divide\n",
      "  p_i_k[idx_component] = (gmm_weights[idx_component]*up_probability_density)/(low_probability_density)\n"
     ]
    },
    {
     "name": "stdout",
     "output_type": "stream",
     "text": [
      "105\n"
     ]
    },
    {
     "name": "stderr",
     "output_type": "stream",
     "text": [
      "/home/xushaohang/new_disk_research_only/Finance/RC_MAD/venv/lib/python3.8/site-packages/cvxpy/problems/problem.py:1403: UserWarning: Solution may be inaccurate. Try another solver, adjusting the solver settings, or solve with verbose=True for more information.\n",
      "  warnings.warn(\n"
     ]
    },
    {
     "name": "stdout",
     "output_type": "stream",
     "text": [
      "105\n",
      "105\n"
     ]
    },
    {
     "name": "stderr",
     "output_type": "stream",
     "text": [
      "/tmp/ipykernel_63185/1660823676.py:39: RuntimeWarning: invalid value encountered in scalar divide\n",
      "  p_i_k[idx_component] = (gmm_weights[idx_component]*up_probability_density)/(low_probability_density)\n"
     ]
    },
    {
     "name": "stdout",
     "output_type": "stream",
     "text": [
      "105\n"
     ]
    },
    {
     "name": "stderr",
     "output_type": "stream",
     "text": [
      "/home/xushaohang/new_disk_research_only/Finance/RC_MAD/venv/lib/python3.8/site-packages/cvxpy/problems/problem.py:1403: UserWarning: Solution may be inaccurate. Try another solver, adjusting the solver settings, or solve with verbose=True for more information.\n",
      "  warnings.warn(\n"
     ]
    },
    {
     "name": "stdout",
     "output_type": "stream",
     "text": [
      "105\n",
      "105\n"
     ]
    },
    {
     "name": "stderr",
     "output_type": "stream",
     "text": [
      "/tmp/ipykernel_63185/1660823676.py:39: RuntimeWarning: invalid value encountered in scalar divide\n",
      "  p_i_k[idx_component] = (gmm_weights[idx_component]*up_probability_density)/(low_probability_density)\n"
     ]
    },
    {
     "name": "stdout",
     "output_type": "stream",
     "text": [
      "105\n"
     ]
    },
    {
     "name": "stderr",
     "output_type": "stream",
     "text": [
      "/home/xushaohang/new_disk_research_only/Finance/RC_MAD/venv/lib/python3.8/site-packages/cvxpy/problems/problem.py:1403: UserWarning: Solution may be inaccurate. Try another solver, adjusting the solver settings, or solve with verbose=True for more information.\n",
      "  warnings.warn(\n"
     ]
    },
    {
     "name": "stdout",
     "output_type": "stream",
     "text": [
      "105\n",
      "105\n",
      "105\n"
     ]
    },
    {
     "name": "stderr",
     "output_type": "stream",
     "text": [
      "/tmp/ipykernel_63185/1660823676.py:39: RuntimeWarning: invalid value encountered in scalar divide\n",
      "  p_i_k[idx_component] = (gmm_weights[idx_component]*up_probability_density)/(low_probability_density)\n"
     ]
    },
    {
     "name": "stdout",
     "output_type": "stream",
     "text": [
      "105\n"
     ]
    },
    {
     "name": "stderr",
     "output_type": "stream",
     "text": [
      "/home/xushaohang/new_disk_research_only/Finance/RC_MAD/venv/lib/python3.8/site-packages/cvxpy/problems/problem.py:1403: UserWarning: Solution may be inaccurate. Try another solver, adjusting the solver settings, or solve with verbose=True for more information.\n",
      "  warnings.warn(\n"
     ]
    },
    {
     "name": "stdout",
     "output_type": "stream",
     "text": [
      "105\n",
      "105\n",
      "105\n",
      "105\n",
      "105\n",
      "105\n",
      "105\n",
      "105\n",
      "105\n",
      "105\n",
      "105\n",
      "105\n",
      "105\n",
      "105\n",
      "105\n",
      "105\n",
      "105\n",
      "105\n",
      "105\n",
      "105\n",
      "105\n",
      "105\n",
      "105\n",
      "105\n",
      "105\n",
      "105\n",
      "105\n",
      "105\n",
      "105\n",
      "105\n",
      "105\n",
      "105\n",
      "105\n",
      "105\n",
      "105\n",
      "105\n",
      "105\n",
      "105\n",
      "105\n"
     ]
    }
   ],
   "source": [
    "# RCMAD model\n",
    "for time_window_idx in range(asset_all.shape[0]-time_train):   \n",
    "    asset = df.iloc[time_window_idx:time_train+time_window_idx, 1:asset_num_index].to_numpy()\n",
    "    infor = df.iloc[time_window_idx:time_train+time_window_idx, -infor_num:].to_numpy()\n",
    "    all_data_train = df.iloc[time_window_idx:time_train+time_window_idx, 1:].to_numpy()\n",
    "    \n",
    "    asset_test = df.iloc[time_train+time_window_idx, 1:asset_num_index].to_numpy()\n",
    "    infor_test = df.iloc[time_train+time_window_idx, -infor_num:].to_numpy()\n",
    "    \n",
    " \n",
    "    asset_mean = np.mean(asset, axis=0)\n",
    "    asset_std = np.std(asset, axis=0)\n",
    "    asset_sig = np.diag(asset_std)\n",
    "    asset_sig = asset_sig.T.dot(asset_sig)\n",
    "    n_asset = asset.shape[1]\n",
    "    T_val = asset.shape[0]\n",
    "\n",
    "\n",
    "    # RCMAD\n",
    "    n_components = 2\n",
    "    gmm = GaussianMixture(n_components=n_components)\n",
    "    gmm.fit(all_data_train)\n",
    "    gmm_means = gmm.means_\n",
    "    gmm_covariances = gmm.covariances_\n",
    "    gmm_weights = gmm.weights_\n",
    "    # calculate conditional GMM\n",
    "    side_information_now = infor_all[time_train+time_window_idx,:] # the 31st year\n",
    "    p_i_k = np.array([0.0]*n_components)\n",
    "    for idx_component in range(n_components):\n",
    "        mean =  gmm_means[idx_component][-infor_num:]\n",
    "        cov =  gmm_covariances[idx_component][-infor_num:,-infor_num:]\n",
    "        up_probability_density = multivariate_normal.pdf(side_information_now, mean=mean, cov=cov)\n",
    "        low_probability_density = 0\n",
    "        for idx_component_inner in range(n_components): \n",
    "            mean_inner =  gmm_means[idx_component_inner][-infor_num:]\n",
    "            cov_inner =  gmm_covariances[idx_component_inner][-infor_num:,-infor_num:]\n",
    "            probability_density_inner = multivariate_normal.pdf(side_information_now, mean=mean, cov=cov)\n",
    "            low_probability_density+=gmm_weights[idx_component_inner] * probability_density_inner\n",
    "        p_i_k[idx_component] = (gmm_weights[idx_component]*up_probability_density)/(low_probability_density)\n",
    "    \n",
    "    mu_i_k = np.zeros((n_components,asset_num))\n",
    "    mu_r_k = gmm_means[:,:asset_num]\n",
    "    mu_s_k = gmm_means[:,asset_num:]\n",
    "    cov_rs_k = []\n",
    "    for i in range(n_components):\n",
    "        cov_rs_k.append(gmm_covariances[i][:asset_num,asset_num:])\n",
    "    cov_ss_k = []\n",
    "    for i in range(n_components):\n",
    "        cov_ss_k.append(gmm_covariances[i][-infor_num:,-infor_num:])\n",
    "    \n",
    "    mu_i_k = np.zeros((n_components,asset_num))\n",
    "    for i in range(n_components):\n",
    "        mu_i_k[i] = mu_r_k[i] + cov_rs_k[i]@(np.linalg.inv(cov_ss_k[i]))@(side_information_now-mu_s_k[i])\n",
    "    # define A and b\n",
    "    A = np.zeros((2 * asset_num, asset_num))\n",
    "    for i in range(asset_num):\n",
    "        A[2*i][i] = -1\n",
    "        A[2*i + 1][i] = 1\n",
    "    \n",
    "    B = np.zeros((2 * asset_num, 1))\n",
    "    theta_lower_bound = - 0.1 # uncertainty bound\n",
    "    theta_upper_bounbd = 0.1\n",
    "    for i in range(asset_num):\n",
    "        B[2*i] = - theta_lower_bound\n",
    "        B[2*i + 1] = theta_upper_bounbd\n",
    "    R_0 = mad_list[time_window_idx]  # desired return\n",
    "    r_i = asset_mean\n",
    "    r_it = asset\n",
    "    \n",
    "    y_t = cp.Variable(T_val)\n",
    "    omega = cp.Variable(n_asset)\n",
    "    \n",
    "    gammas = []\n",
    "    for i in range(n_components):\n",
    "        gammas.append(cp.Variable(2*asset_num))\n",
    "    betas = []\n",
    "    for i in range(n_components):\n",
    "        betas.append(cp.Variable(2*asset_num))\n",
    "    alphas = []\n",
    "    for i in range(n_components):\n",
    "        alphas.append(cp.Variable(2*asset_num))\n",
    "    \n",
    "    # objective\n",
    "    objective = cp.Minimize((1/T_val) * cp.sum(y_t))\n",
    "    \n",
    "    # Define the constraints\n",
    "    \n",
    "    constraints = [\n",
    "        cp.sum(omega) == 1.0,\n",
    "        omega >= 0.0,\n",
    "        y_t >= 0.0\n",
    "    ]\n",
    "    \n",
    "    for k in range(n_components): \n",
    "        constraints+=[gammas[k]>=0.0]\n",
    "        constraints+=[betas[k]>=0.0]\n",
    "        constraints+=[alphas[k]>=0.0]\n",
    "    \n",
    "    # equalities\n",
    "    a_gama_sum=0\n",
    "    for k in range(n_components):\n",
    "        for m in range(2*asset_num):\n",
    "            a_gama_sum += gammas[k][m]*A[m]\n",
    "        constraints+=[p_i_k [k] *omega +a_gama_sum == 0.0]\n",
    "    a_beta_sum=0\n",
    "    for k in range(n_components):\n",
    "        for m in range(2*asset_num):\n",
    "            a_beta_sum += betas[k][m]*A[m]\n",
    "        constraints+=[p_i_k [k] *omega +a_beta_sum == 0.0]\n",
    "    a_alpha_sum=0\n",
    "    for k in range(n_components):\n",
    "        for m in range(2*asset_num):\n",
    "            a_alpha_sum += alphas[k][m]*A[m]\n",
    "        constraints+=[-p_i_k [k] *omega + a_alpha_sum == 0.0]\n",
    "    \n",
    "    # inequalities\n",
    "    omega_mu_sum=0\n",
    "    for k in range(n_components):\n",
    "        omega_mu_sum+= p_i_k [k] * mu_i_k[k]@omega\n",
    "        \n",
    "    b_alpha_sum=0\n",
    "    for k in range(n_components):\n",
    "        for m in range(2*asset_num):\n",
    "            b_alpha_sum += alphas[k][m]*B[m]\n",
    "    for time_index in range(T_val):\n",
    "        constraints+=[omega_mu_sum+b_alpha_sum-r_it[time_index,:].T@omega -y_t<=0]\n",
    "    \n",
    "    b_beta_sum=0\n",
    "    for k in range(n_components):\n",
    "        for m in range(2*asset_num):\n",
    "            b_beta_sum += betas[k][m]*B[m]\n",
    "    for time_index in range(T_val):\n",
    "        constraints+=[omega_mu_sum-b_alpha_sum-r_it[time_index,:].T@omega +y_t>=0]\n",
    "        \n",
    "    b_gama_sum=0\n",
    "    for k in range(n_components):\n",
    "        for m in range(2*asset_num):\n",
    "            b_gama_sum += gammas[k][m]*B[m]\n",
    "    for time_index in range(T_val):\n",
    "        constraints+=[omega_mu_sum-b_gama_sum-R_0>=0]\n",
    "    \n",
    "    \n",
    "    # Create the problem\n",
    "    problem = cp.Problem(objective, constraints)\n",
    "    # Solve the problem\n",
    "    try:\n",
    "        problem.solve(solver=cp.ECOS)\n",
    "        if problem.status == cp.OPTIMAL:\n",
    "            rcmad_list.append(asset_test.T @ omega.value)\n",
    "        else:\n",
    "            rcmad_list.append(R_0)\n",
    "    except:\n",
    "        rcmad_list.append(R_0)\n",
    "    "
   ]
  },
  {
   "cell_type": "code",
   "execution_count": null,
   "id": "26df8fce-3dc3-4ae7-98ce-350442a92ccc",
   "metadata": {},
   "outputs": [
    {
     "name": "stderr",
     "output_type": "stream",
     "text": [
      "The PostScript backend does not support transparency; partially transparent artists will be rendered opaque.\n"
     ]
    },
    {
     "data": {
      "image/png": "[encoded data removed]",
      "text/plain": [
       "<Figure size 1000x400 with 1 Axes>"
      ]
     },
     "metadata": {},
     "output_type": "display_data"
    }
   ],
   "source": [
    "import matplotlib.pyplot as plt\n",
    "from matplotlib.ticker import FormatStrFormatter\n",
    "\n",
    "# 生成时间序列，从1988年开始，每年增加1/12单位\n",
    "start_year = 1987 + 1/2\n",
    "end_year = 2022+11/12\n",
    "x_values = np.arange(start_year, end_year + 1/12, 1/12)\n",
    "\n",
    "# 设置图形的大小，长宽比为2.5:1\n",
    "plt.figure(figsize=(10, 4))\n",
    "\n",
    "\n",
    "# 绘制三个图形，设置颜色、线性和线宽\n",
    "plt.plot(x_values, po_list, color='red', linestyle='-', linewidth=1, label='MV')\n",
    "plt.plot(x_values, mad_list, color='green', linestyle='--', linewidth=1, label='MAD')\n",
    "plt.plot(x_values, rcmad_list, color='blue', linestyle='-.', linewidth=1, label='RCMAD')\n",
    "\n",
    "# 设置横坐标刻度\n",
    "tick_positions = np.arange(start_year, end_year + 1, 3)\n",
    "plt.xticks(tick_positions)\n",
    "# 格式化刻度标签，保留整数部分\n",
    "plt.gca().xaxis.set_major_formatter(FormatStrFormatter('%d'))\n",
    "# 添加标题和标签\n",
    "plt.xlabel('Year')\n",
    "plt.ylabel('Return')\n",
    "plt.legend()\n",
    "# 保存图形为EPS格式\n",
    "plt.savefig('result_compare.eps', format='eps')\n",
    "plt.show()"
   ]
  },
  {
   "cell_type": "code",
   "execution_count": null,
   "id": "b775fc49-d23e-475a-be74-6b69f1386696",
   "metadata": {},
   "outputs": [
    {
     "name": "stdout",
     "output_type": "stream",
     "text": [
      "0.9661413944998961\n",
      "1.2007632272688529\n",
      "1.5771471184523733\n"
     ]
    }
   ],
   "source": [
    "import csv\n",
    "# 将列表组合成一个二维列表\n",
    "data = [po_list, mad_list, rcmad_list]\n",
    "\n",
    "# 指定要保存的CSV文件名\n",
    "csv_file = \"output.csv\"\n",
    "\n",
    "# 打开CSV文件并写入数据\n",
    "with open(csv_file, mode='w', newline='') as file:\n",
    "    writer = csv.writer(file)\n",
    "    \n",
    "    # 写入三个列表的标题行\n",
    "    writer.writerow([\"PO\", \"MAD\", \"RCMAD\"])\n",
    "    \n",
    "    # 写入数据行\n",
    "    for row in zip(*data):\n",
    "        writer.writerow(row)\n",
    "\n",
    "print(f\"{csv_file} 文件已成功保存。\")\n",
    "\n",
    "print(\"Average PO is \", np.mean(po_list))\n",
    "print(\"Average MAD is \", np.mean(mad_list))\n",
    "print(\"Average RCMAD is \", np.mean(rcmad_list))\n",
    "\n",
    "print(\"Max PO is \", np.max(po_list))\n",
    "print(\"Max MAD is \", np.max(mad_list))\n",
    "print(\"Max RCMAD is \", np.max(rcmad_list))\n",
    "\n",
    "print(\"Min PO is \", np.min(po_list))\n",
    "print(\"Min MAD is \", np.min(mad_list))\n",
    "print(\"Min RCMAD is \", np.min(rcmad_list))"
   ]
  },
  {
   "cell_type": "code",
   "execution_count": null,
   "id": "5062be7d-4915-4f34-9b92-4bc8678ccc69",
   "metadata": {},
   "outputs": [
    {
     "name": "stdout",
     "output_type": "stream",
     "text": [
      "0.6564452137746357\n",
      "1.0570890840778573\n",
      "1.1310742137020897\n"
     ]
    }
   ],
   "source": [
    "print(np.mean(po_list)/np.std(po_list)*np.sqrt(12))\n",
    "print(np.mean(mad_list)/np.std(mad_list)*np.sqrt(12))\n",
    "print(np.mean(rcmad_list)/np.std(rcmad_list)*np.sqrt(12))"
   ]
  },
  {
   "cell_type": "code",
   "execution_count": null,
   "id": "803d8c9e-2cba-458d-87b2-dd3d314ca27a",
   "metadata": {},
   "outputs": [],
   "source": []
  }
 ],
 "metadata": {
  "kernelspec": {
   "display_name": "Python 3 (ipykernel)",
   "language": "python",
   "name": "python3"
  },
  "language_info": {
   "codemirror_mode": {
    "name": "ipython",
    "version": 3
   },
   "file_extension": ".py",
   "mimetype": "text/x-python",
   "name": "python",
   "nbconvert_exporter": "python",
   "pygments_lexer": "ipython3",
   "version": "3.8.10"
  }
 },
 "nbformat": 4,
 "nbformat_minor": 5
}
